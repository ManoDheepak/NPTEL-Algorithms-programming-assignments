{
 "cells": [
  {
   "cell_type": "code",
   "execution_count": 1,
   "metadata": {},
   "outputs": [],
   "source": [
    "import numpy as np"
   ]
  },
  {
   "cell_type": "code",
   "execution_count": 88,
   "metadata": {},
   "outputs": [],
   "source": [
    "def merge_sort(ary):\n",
    "    sorted_array=[]\n",
    "    split=np.split(ary,[int(np.floor((len(ary)+1)/2))])\n",
    "    array_1,array_2=split[0],split[1]\n",
    "    if min(len(array_1),len(array_2))==0:\n",
    "        if len(array_1)==0:\n",
    "            sorted_array=array_2\n",
    "        else:\n",
    "            sorted_array=array_1\n",
    "    else:\n",
    "        sorted_array_1=merge_sort(array_1)\n",
    "        sorted_array_2=merge_sort(array_2)\n",
    "        sorted_array=merge(sorted_array_1,sorted_array_2)\n",
    "    return sorted_array    "
   ]
  },
  {
   "cell_type": "code",
   "execution_count": 89,
   "metadata": {},
   "outputs": [],
   "source": [
    "def merge(ar1,ar2):\n",
    "    merged=np.array([])\n",
    "    while(max(len(ar1),len(ar2))>0):\n",
    "        try:\n",
    "            if ar1[0]<=ar2[0]:\n",
    "                merged=np.append(merged,ar1[0])\n",
    "                ar1=np.delete(ar1,0)\n",
    "            else:\n",
    "                merged=np.append(merged,ar2[0])\n",
    "                ar2=np.delete(ar2,0)\n",
    "        except(IndexError):\n",
    "            if len(ar1)!=0:\n",
    "                merged=np.append(merged,ar1)\n",
    "            else:\n",
    "                merged=np.append(merged,ar2)\n",
    "            ar1,ar2=[],[]\n",
    "    return merged"
   ]
  },
  {
   "cell_type": "code",
   "execution_count": null,
   "metadata": {},
   "outputs": [],
   "source": []
  },
  {
   "cell_type": "code",
   "execution_count": null,
   "metadata": {},
   "outputs": [],
   "source": []
  },
  {
   "cell_type": "code",
   "execution_count": null,
   "metadata": {},
   "outputs": [],
   "source": []
  },
  {
   "cell_type": "code",
   "execution_count": null,
   "metadata": {},
   "outputs": [],
   "source": []
  },
  {
   "cell_type": "code",
   "execution_count": null,
   "metadata": {},
   "outputs": [],
   "source": []
  }
 ],
 "metadata": {
  "kernelspec": {
   "display_name": "Python 3",
   "language": "python",
   "name": "python3"
  },
  "language_info": {
   "codemirror_mode": {
    "name": "ipython",
    "version": 3
   },
   "file_extension": ".py",
   "mimetype": "text/x-python",
   "name": "python",
   "nbconvert_exporter": "python",
   "pygments_lexer": "ipython3",
   "version": "3.7.3"
  }
 },
 "nbformat": 4,
 "nbformat_minor": 2
}
